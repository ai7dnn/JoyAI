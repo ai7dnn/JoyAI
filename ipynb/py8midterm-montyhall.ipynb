{
 "cells": [
  {
   "cell_type": "markdown",
   "metadata": {},
   "source": [
    "# Welcome to \"Joy AI\"\n",
    "\n",
    "God has saved us and called us to a holy life - not because of anythin we have done but because of his own purpose and grace. This grace was given us in Christ Jesus before the beginning of time. (1Tim1:9)\n",
    "\n",
    "하나님이 우리를 구원하사 거룩하신 소명으로 부르심은 우리의 행위대로 하심이 아니요 오직 자기 뜻과 영원 전부터 그리스도 예수 안에서 우리에게 주신 은혜대로 하심이라. (딤후1:9)\n",
    "\n",
    "----------\n",
    "Midterm exam: created by idebtor@gmail.com \n",
    "\n",
    "제출 마감일: 토요일(4/24 11:55 PM)\n",
    "\n",
    "무감독 양심 시험으로 실시합니다. Open Book 그리고 인터넷 검색이 가능합니다. 친구들의 도움을 받는 것은 Cheating에 해당합니다. 한동의 학우들이 \"정직하고 성실하게\" 코딩을 할 충분히 시간(약 4 일간)에 제공되었습니다. 특히 1학년 학우들과 코딩을 처음 배우는 학우들을 위한 배려입니다. \n",
    "\n",
    "God is good all the time~   \n",
    "\n",
    "(a debtor)<><\n"
   ]
  },
  {
   "cell_type": "markdown",
   "metadata": {},
   "source": [
    "### Some Excellent Machine Learning Technical Video Lectures Recommended\n",
    "\n",
    "1. [Neural Networks](https://www.youtube.com/watch?v=aircAruvnKk&list=PLZHQObOWTQDNU6R1_67000Dx_ZCJB-3pi)\n",
    "    - link: [YouTube](https://www.youtube.com/watch?v=aircAruvnKk&list=PLZHQObOWTQDNU6R1_67000Dx_ZCJB-3pi)\n",
    "    - length: 19:13\n",
    "    - lecturer: 3Blue1Brown\n",
    "    - contents: One of the best lecture series about neural networks.\n",
    "    \n",
    "1. [Gradient descent](https://www.youtube.com/watch?v=IHZwWFHWa-w&list=PLZHQObOWTQDNU6R1_67000Dx_ZCJB-3pi&index=3&t=0s)\n",
    "    - link: [YouTube](https://www.youtube.com/watch?v=IHZwWFHWa-w&list=PLZHQObOWTQDNU6R1_67000Dx_ZCJB-3pi&index=3&t=0s)\n",
    "    - length: 21:00\n",
    "    - lecturer: 3Blue1Brown\n",
    "    - contents: One of the best lecture series about neural networks.\n",
    "    \n",
    "1. [What is backpropagation really doing?](https://www.youtube.com/watch?v=Ilg3gGewQ5U&list=PLZHQObOWTQDNU6R1_67000Dx_ZCJB-3pi&index=3)\n",
    "    - link: [YouTube](https://www.youtube.com/watch?v=Ilg3gGewQ5U&list=PLZHQObOWTQDNU6R1_67000Dx_ZCJB-3pi&index=3)\n",
    "    - length: 13:53\n",
    "    - lecturer: 3Blue1Brown\n",
    "    - contents: One of the best lecture series about neural networks.\n",
    "    \n",
    "1. [Backpropagation calculus](https://www.youtube.com/watch?v=Ilg3gGewQ5U&list=PLZHQObOWTQDNU6R1_67000Dx_ZCJB-3pi&index=3)\n",
    "    - link: [YouTube](https://www.youtube.com/watch?v=Ilg3gGewQ5U&list=PLZHQObOWTQDNU6R1_67000Dx_ZCJB-3pi&index=3)\n",
    "    - length: 10:18\n",
    "    - lecturer: 3Blue1Brown\n",
    "    - contents: One of the best lecture series about neural networks.\n"
   ]
  },
  {
   "cell_type": "markdown",
   "metadata": {},
   "source": [
    "# [The Monty Hall Problem](http://en.wikipedia.org/wiki/Monty_Hall_problem)\n",
    "\n",
    "Here's a fun and perhaps surprising statistical riddle, and a good way to get some practice writing python functions.\n",
    "\n",
    "In a gameshow, contestants try to guess which of 3 closed doors contain a cash prize (goats are behind the other two doors). Of course, the odds of choosing the correct door are 1 in 3. As a twist, the host of the show occasionally opens a door after a contestant makes his or her choice. This door is always one of the two the contestant did not pick, and is also always one of the goat doors (note that it is always possible to do this, since there are two goat doors). At this point, the contestant has the option of keeping his or her original choice, or swtiching to the other unopened door. The question is: is there any benefit to switching doors? The answer surprises many people who haven't heard the question before.\n",
    "\n",
    "We can answer the problem by running simulations in Python. We'll do it in several parts.\n"
   ]
  },
  {
   "cell_type": "code",
   "execution_count": null,
   "metadata": {
    "scrolled": true
   },
   "outputs": [],
   "source": [
    "from IPython.display import YouTubeVideo\n",
    "YouTubeVideo('mhlc7peGlGg') "
   ]
  },
  {
   "cell_type": "markdown",
   "metadata": {},
   "source": [
    "### Refer to another good explanations of Monty Hall Problem in Korean\n",
    "- [서울대 경영대학원 - 직관과 다른 확률](https://cba.snu.ac.kr/ko/sblcolumn?mode=view&bbsidx=77838)\n",
    "- [위키피디아](https://ko.wikipedia.org/wiki/%EB%AA%AC%ED%8B%B0_%ED%99%80_%EB%AC%B8%EC%A0%9C)\n",
    "- [나무위키](https://namu.wiki/w/%EB%AA%AC%ED%8B%B0%20%ED%99%80%20%EB%AC%B8%EC%A0%9C)"
   ]
  },
  {
   "cell_type": "markdown",
   "metadata": {},
   "source": [
    "## Step 1:\n",
    "First, write a function called `simulate_prizedoor`. This function will simulate the location of the prize in many games -- see the detailed specification below:\n",
    "\n",
    "- Use list & for loop"
   ]
  },
  {
   "cell_type": "code",
   "execution_count": null,
   "metadata": {},
   "outputs": [],
   "source": [
    "#%%file simulate_prizedoor.py\n",
    "# simulate_prizedoor.py\n",
    "# CrushPython - MontyHall\n",
    "import random                    # to use random.randint(......)\n",
    "\n",
    "def simulate_prizedoor(nsim):\n",
    "    \"\"\"    \n",
    "    Return a random array or list of 0s, 1s, and 2s. \n",
    "    The length of the array or list is the parameter nsim - a positive integer. \n",
    "    nsim represents the number of simulation. \n",
    "    \n",
    "    This function generates a random array of 0s, 1s, and 2s, representing \n",
    "    hiding a prize between door 0, door 1, and door. \n",
    "    \n",
    "    Use random.randint(0,2) to generate the numbers of 0, 1, and 2 randomly.\n",
    "\n",
    "    For example, \n",
    "    >>> print(simulate_prizedoor(3))\n",
    "    [0, 0, 2]\n",
    "    >>> print(simulate_prizedoor(7))\n",
    "    [2, 1, 0, 1, 1, 0, 2]\n",
    "    >>> print(simulate_prizedoor(10))\n",
    "    [0, 2, 1, 0, 1, 1, 0, 2, 0, 2]\n",
    "    \n",
    "    # sample cases when using np.array instead of using list.\n",
    "    >>> print(simulate_prizedoor(3))    \n",
    "    array([0, 0, 2])\n",
    "    \"\"\"\n",
    "    assert nsim >= 1\n",
    "    \n",
    "\n",
    "    return prizedoors"
   ]
  },
  {
   "cell_type": "code",
   "execution_count": null,
   "metadata": {},
   "outputs": [],
   "source": [
    "simulate_prizedoor(5)"
   ]
  },
  {
   "cell_type": "markdown",
   "metadata": {},
   "source": [
    "- Simplify the code part of the function defined above by using list comprehension. "
   ]
  },
  {
   "cell_type": "code",
   "execution_count": null,
   "metadata": {},
   "outputs": [],
   "source": [
    "import random                    # to use random.randint(......)\n",
    "def simulate_prizedoor(nsim):    # rewrite the code part only here\n",
    "\n",
    "    "
   ]
  },
  {
   "cell_type": "code",
   "execution_count": null,
   "metadata": {},
   "outputs": [],
   "source": [
    "simulate_prizedoor(5)"
   ]
  },
  {
   "cell_type": "markdown",
   "metadata": {},
   "source": [
    "#### 질문 1: \n",
    "함수 `simulate_prizedoor(5)`을 실행했을 때, 함수가 `[0, 1, 1, 2, 0]`를 반환한다면,\n",
    "\n",
    "(1) 리스트 안에 있는 숫자들의 의미는 무엇입니까?  \n",
    "(2) 여기서 함수를 호출할 때, 사용한 5의 의미는 무엇입니까?  \n",
    "(3) 이 함수가 `[1, 1, 1, 1, 1]`를 반환할 수도 있나요? yes/no로 답하십시오. "
   ]
  },
  {
   "cell_type": "markdown",
   "metadata": {},
   "source": [
    "#### 답:\n",
    "1.  \n",
    "1. \n",
    "1.     "
   ]
  },
  {
   "cell_type": "markdown",
   "metadata": {},
   "source": [
    "#### 질문 2: \n",
    "(1) 위의 코드에서 `assert nsim >= 1` 이 있을 때와 없을 때, 각각 __어떤 일들이__ 일어날 수 있을지 기술하십시오.  \n",
    "(2) assert nsim >= 1 같은 구문이 왜 필요한 것일까요?"
   ]
  },
  {
   "cell_type": "markdown",
   "metadata": {},
   "source": [
    "#### 답:\n",
    "1.  \n",
    "1.  "
   ]
  },
  {
   "cell_type": "markdown",
   "metadata": {},
   "source": [
    "## Step 2:\n",
    "Next, write a function `simulate_guess()` that simulates the contestant's guesses for `nsim` simulations. Call this function `simulate_guess`. The specs:\n",
    "\n",
    "- Use list & for loop"
   ]
  },
  {
   "cell_type": "code",
   "execution_count": null,
   "metadata": {},
   "outputs": [],
   "source": [
    "#%%file simulate_guess.py\n",
    "# simulate_guess.py\n",
    "# CrushPython - MontyHall\n",
    "\n",
    "import random\n",
    "def simulate_guess(nsim):\n",
    "    \"\"\"\n",
    "    Return a random array or a list that is  a strategy for guessing which door \n",
    "    a prize is behind. This could be a random strategy, one that always \n",
    "    guesses 2, whatever. \n",
    "    \n",
    "    You may use randint() as well here\n",
    "\n",
    "    nsim is the number of simulations to generate guesses for. \n",
    "    \n",
    "    >>> print(simulate_guess(5))\n",
    "    [0, 0, 0, 0, 0]\n",
    "    \n",
    "    # sample cases when using np.array instead of using list.\n",
    "    >>> print(simulate_guess(5))\n",
    "    array([0, 0, 0, 0, 0])\n",
    "    \"\"\"\n",
    "\n",
    "    assert nsim >= 1\n",
    "\n",
    "    \n",
    "    \n",
    "    return guesses"
   ]
  },
  {
   "cell_type": "code",
   "execution_count": null,
   "metadata": {},
   "outputs": [],
   "source": [
    "simulate_guess(5)"
   ]
  },
  {
   "cell_type": "markdown",
   "metadata": {},
   "source": [
    "- Simplify the code part of the function defined above by using list comprehension. "
   ]
  },
  {
   "cell_type": "code",
   "execution_count": null,
   "metadata": {},
   "outputs": [],
   "source": [
    "def simulate_guess(nsim):    # rewrite the code part only here\n",
    "    "
   ]
  },
  {
   "cell_type": "code",
   "execution_count": null,
   "metadata": {},
   "outputs": [],
   "source": [
    "simulate_guess(5)"
   ]
  },
  {
   "cell_type": "markdown",
   "metadata": {},
   "source": [
    "#### 질문 3: \n",
    "`simulate_guess()`함수는 누구(Show Host or Contestant)의 역할을 감당하는 것을 시뮬레이션 하는 것인가요? \n"
   ]
  },
  {
   "cell_type": "markdown",
   "metadata": {},
   "source": [
    "#### 답:\n",
    "- "
   ]
  },
  {
   "cell_type": "markdown",
   "metadata": {},
   "source": [
    "#### 질문 4: \n",
    "`simulate_guess()` 함수를 정의할 때, \"This could be a random strategy, one that always guesses 2, whatever.\"라고 설명합니다. 전략에 따라 이 함수의 값이 다르게 나올 수 있다는 이야기입니다. 이러한 전략에 따른 __다른 종류의 반환 값들__을 예를 들어 나열하십시오. 단 `nsim = 5`이라고 가정하십시오. . \n"
   ]
  },
  {
   "cell_type": "markdown",
   "metadata": {},
   "source": [
    "아래에 답을 기록할 때 괄호(`[  ]`)를 사용하려면, 양 끝에 back quotes(` `)를 사용하면 쉽습니다. 예: `[1, 2, 0]`\n",
    "#### 답:\n",
    "\n",
    "- \n"
   ]
  },
  {
   "cell_type": "markdown",
   "metadata": {},
   "source": [
    "## Step 3:  \n",
    "Next, write a function, `goat_door`, to simulate randomly revealing one of the goat doors that a contestant didn't pick.\n",
    "\n",
    "- Use list & for loop"
   ]
  },
  {
   "cell_type": "code",
   "execution_count": null,
   "metadata": {},
   "outputs": [],
   "source": [
    "#%%file goat_door.py\n",
    "# goat_door.py\n",
    "# CrushPython - MontyHall\n",
    "\n",
    "import random\n",
    "\n",
    "def goat_door(prizedoors, guesses):\n",
    "    \"\"\" Return the goat door that is opened for each simulation. \n",
    "    Each item is 0, 1, or 2, and is different from both prizedoors and guesses.\n",
    "    \n",
    "    It simulates the opening of a \"goat door\" that doesn't contain the prize,\n",
    "        and is different from the contestants guess\n",
    "    The prizedoors array or list is the door that the prize is behind \n",
    "        in each simulation\n",
    "    The guesses array or list is the door that the contestant guessed \n",
    "        in each simulation\n",
    "        \n",
    "    remove(element) removes the first matching element from the list.\n",
    "    pop() removes the last element from the list.\n",
    "  \n",
    "    >>> print(goat_door([0, 1, 2], [1, 1, 1]))\n",
    "    array([2, 2, 0])              # array([2, 0, 0]) is valid too.\n",
    "    \n",
    "    # sample cases when using np.array instead of using list.\n",
    "    >>> print(goat_door(np.array([0, 1, 2]), np.array([1, 1, 1])))\n",
    "    array([2, 2, 0])              # array([2, 0, 0]) is valid too.\n",
    "    \"\"\"\n",
    "    \n",
    "    goat_door = []\n",
    "\n",
    "    return goat_door"
   ]
  },
  {
   "cell_type": "code",
   "execution_count": null,
   "metadata": {},
   "outputs": [],
   "source": [
    "goat_door([0, 1, 2, 0, 2], [1, 1, 1, 1, 1])"
   ]
  },
  {
   "cell_type": "markdown",
   "metadata": {},
   "source": [
    "#### 질문 5:\n",
    "\n",
    "만약 `prizedoors = [0, 1, 2, 1, 2], )`이며, \n",
    "\n",
    "(1) `guesses = [1, 2, 0, 1, 0]`이라면, `goat_door()`가 반환하는 값은 무엇입니까?   \n",
    "(2) `guesses = [1, 1, 1, 1, 1]`이라면, `goat_door()`가 반환하는 값은 무엇입니까? \n",
    "\n",
    "답이 여러 개라면, 모든 경우를 나열하십시오. "
   ]
  },
  {
   "cell_type": "markdown",
   "metadata": {},
   "source": [
    "아래에 답을 기록할 때 괄호(`[  ]`)를 사용하려면, 양 끝에 back quotes(` `)를 사용하면 쉽습니다. 예: `[1, 2, 0]`\n",
    "#### 답: \n",
    "1.  \n",
    "1.  \n"
   ]
  },
  {
   "cell_type": "markdown",
   "metadata": {},
   "source": [
    "## Step 4: \n",
    "Let us compute a winning rate when the contestant does not switch his/her choices. Then all things you need to know to compute the winning rate are `guesses` and `prizedoors` only. For example, the winning rate is 0.4 when `guesses = [0, 0, 0, 0, 0]` and `prizedoors = [1, 1, 2, 0, 0]`. \n",
    "\n",
    "Write a simulation code with nsim = 100 to compute a winning rate. \n",
    "\n",
    "- Use list & for loop"
   ]
  },
  {
   "cell_type": "code",
   "execution_count": null,
   "metadata": {},
   "outputs": [],
   "source": [
    "nsim = 100\n",
    "\n",
    "# invokke simulate_prizedoor() and simulate_guess() and save the results \n",
    "# in prizedoors and guesses, respectively. \n",
    "\n",
    "\n",
    "# now compare two lists, and count how many elements are matched.\n",
    "\n",
    "\n",
    "# compute the winning rate\n",
    "\n",
    "\n",
    "# print the result\n",
    "print(\"Winning Rate without the switched guess:\", winningrate)"
   ]
  },
  {
   "cell_type": "markdown",
   "metadata": {},
   "source": [
    "- Simplify the code part of the function defined above by using list comprehension. "
   ]
  },
  {
   "cell_type": "code",
   "execution_count": null,
   "metadata": {},
   "outputs": [],
   "source": [
    "nsim = 100\n",
    "\n",
    "# invokke simulate_prizedoor() and simulate_guess() and save the results \n",
    "# in prizedoors and guesses, respectively. \n",
    "\n",
    "\n",
    "# now compare two lists, and count how many elements are matched.\n",
    "# use list comprehension \n",
    "\n",
    "\n",
    "# compute the winning rate\n",
    "\n",
    "\n",
    "# print the result\n",
    "print(\"Winning Rate without the switched guess:\", winningrate)"
   ]
  },
  {
   "cell_type": "markdown",
   "metadata": {},
   "source": [
    "## Step 5: \n",
    "Write a function, `switch_guess`, that represents the strategy of always switching a guess after the goat door is opened.\n",
    "\n",
    "- Use list & for loop"
   ]
  },
  {
   "cell_type": "code",
   "execution_count": null,
   "metadata": {},
   "outputs": [],
   "source": [
    "# %load switch_guess.py\n",
    "#%%file switch_guess.py\n",
    "# CrushPython - MontyHall\n",
    "\n",
    "def switch_guess(guesses, goatdoors):\n",
    "    \"\"\" Return the new door after switching. Should be different from \n",
    "    both guesses and goatdoors.\n",
    "    The parameter guesses is an array or list of original guesses for \n",
    "        each simulation \n",
    "    The parameter goatdoors is an array or list of revealed goat doors for \n",
    "        each simulation\n",
    "    The strategy that always switches a guess after the goat door is opened\n",
    "    \n",
    "    remove(element) removes the first matching element from the list.\n",
    "    pop() removes the last element from the list.\n",
    "    \n",
    "    >>> print(switch_guess([0, 1, 2], [1, 2, 1]))\n",
    "    [2, 0, 0]                      # [2, 0, 0] is valid\n",
    "    >>> print(switch_guess([2, 1, 0], [0, 2, 1]))\n",
    "    [1, 0, 2]\n",
    "    \n",
    "    # sample cases when using np.array instead of using list.\n",
    "    >>> print(switch_guess(np.array([0, 1, 2]), np.array([1, 2, 1])))\n",
    "    [2, 0, 0]                      # [2, 0, 0] is valid\n",
    "    \"\"\"\n",
    "    switchguess = []\n",
    "\n",
    "    \n",
    "    return switchguess"
   ]
  },
  {
   "cell_type": "code",
   "execution_count": null,
   "metadata": {},
   "outputs": [],
   "source": [
    "switch_guess([0, 1, 2], [1, 2, 1])"
   ]
  },
  {
   "cell_type": "code",
   "execution_count": null,
   "metadata": {},
   "outputs": [],
   "source": [
    "switch_guess([2, 1, 0], [0, 2, 1])"
   ]
  },
  {
   "cell_type": "markdown",
   "metadata": {},
   "source": [
    "- Simplify the code part of the function defined above by using list comprehension. In this case, you may need two for loops inside the list comprehension. To see how to use two for loops, you may refer to the Pythagorean triplet example in `py7listcomp.ipynb`. "
   ]
  },
  {
   "cell_type": "code",
   "execution_count": null,
   "metadata": {},
   "outputs": [],
   "source": [
    "def switch_guess(guesses, goatdoors):\n",
    "    "
   ]
  },
  {
   "cell_type": "code",
   "execution_count": null,
   "metadata": {},
   "outputs": [],
   "source": [
    "switch_guess([0, 1, 2], [1, 2, 1])"
   ]
  },
  {
   "cell_type": "code",
   "execution_count": null,
   "metadata": {},
   "outputs": [],
   "source": [
    "switch_guess([2, 1, 0], [0, 2, 1])"
   ]
  },
  {
   "cell_type": "markdown",
   "metadata": {},
   "source": [
    "#### 질문 7:\n",
    "\n",
    "만약, `switch_guess(guesses = [0, 1, 2, 1, 0], ________ )` 함수에 `goatdoors = [2, 1, 0, 2, 1]`를 인자로 호출한다면, 함수는 작동하지 않을 것입니다. `goatdoors` 인자 값에서 잘못된 부분의 의미(이유)를 설명하고, 작동할 수 있는 `goatdoors` 값을 2개 이상 제시하십시오. "
   ]
  },
  {
   "cell_type": "markdown",
   "metadata": {},
   "source": [
    "아래에 답을 기록할 때 괄호(`[  ]`)를 사용하려면, 양 끝에 back quotes(` `)를 사용하면 쉽습니다. 예: `[1, 2, 0]`\n",
    "#### 답:\n",
    "\n",
    "- \n"
   ]
  },
  {
   "cell_type": "markdown",
   "metadata": {},
   "source": [
    "## Step 6 - Almost finished...: \n",
    "Last function: write a `win_percentage` function that takes an array or list of `guesses` and `prizedoors`, and returns the percent of correct guesses"
   ]
  },
  {
   "cell_type": "code",
   "execution_count": null,
   "metadata": {},
   "outputs": [],
   "source": [
    "#%%file win_percentage.py\n",
    "# win_percentage.py\n",
    "# CrushPython - MontyHall\n",
    "\n",
    "def win_percentage(guesses, prizedoors):\n",
    "    \"\"\" Return the win percentage between 0 and 100. \n",
    "    win_percentage is calculated by the percent of times that a simulation of \n",
    "        guesses is correct\n",
    "    The parameters: \n",
    "    guesses is an array or list of guesses for each simulation\n",
    "    prizedoors is an array or list of the location of prize for each simulation\n",
    " \n",
    "    >>> print(win_percentage([0, 1, 2], [0, 0, 0]))\n",
    "    33.333\n",
    "    \n",
    "    # sample cases when using np.array instead of using list.\n",
    "    >>> print(win_percentage(np.array([0, 1, 2]), np.array([0, 0, 0])))\n",
    "    33.333\n",
    "    \"\"\"\n",
    "    \n",
    "    wins = []\n",
    "    winpercentage = []\n",
    "\n",
    "    \n",
    "    return winpercentage"
   ]
  },
  {
   "cell_type": "markdown",
   "metadata": {},
   "source": [
    "- Simplify the code part of the function defined above by using list comprehension.\n",
    "- Remember that you may use sum() function to add up the list elements. For example, `sum([ 0, 1, 1, 0, 1, 0, 0, 0 ])` returns 3."
   ]
  },
  {
   "cell_type": "code",
   "execution_count": null,
   "metadata": {},
   "outputs": [],
   "source": [
    "def win_percentage(guesses, prizedoors):\n",
    "    \n",
    "    "
   ]
  },
  {
   "cell_type": "markdown",
   "metadata": {},
   "source": [
    "# Congratulations!\n",
    "\n",
    "## Step 7 - The final step: \n",
    "Now, put it together. Simulate (nsim=1000) games where contestant keeps his original guess versus where the contestant switches his door after a  goat door is revealed. \n",
    "\n",
    "Compute the percentage of time the contestant wins under either strategy. Is one strategy better than the other?\n",
    "\n",
    "__A sample run:__\n",
    "```\n",
    "Winning Rate with the original guess: 0.324\n",
    "Winning Rate with the switched guess: 0.647\n",
    "```"
   ]
  },
  {
   "cell_type": "code",
   "execution_count": null,
   "metadata": {},
   "outputs": [],
   "source": [
    "#%%file MontyHall.py\n",
    "# MontyFall.py\n",
    "# CrushPython - MontyHall\n",
    "\n",
    "nsim = 1000\n",
    "#keep original guess each time for nsim times\n",
    "\n",
    "\n",
    "\n",
    "print(\"Winning Rate with the original guess:\", win_percentage(guess, prizedoor))\n",
    "\n",
    "#switch everytime for nsim\n",
    "\n",
    "\n",
    "\n",
    "print(\"Winning Rate with the switched guess:\", win_percentage(switchguess, prizedoor))"
   ]
  },
  {
   "cell_type": "markdown",
   "metadata": {},
   "source": [
    "# Step Challenge: Plot the simulation process. \n",
    "\n",
    "(1) As the number of simulation increases, the winning rate converges as we computed above. In the plot, the x-axis is the number of simulation, and the y-axis the winning rate.\n",
    "\n",
    "__A sample run:__\n",
    "<img src=\"https://github.com/idebtor/KMOOC-ML/blob/master/ipynb/images/montyhall_plot.png?raw=true\" width=\"400\">\n",
    "<center>Monty Hall problem winning rate simulation</center>"
   ]
  },
  {
   "cell_type": "code",
   "execution_count": null,
   "metadata": {},
   "outputs": [],
   "source": [
    "#%%file MontyHallPlot.py\n",
    "# MontyFallPlot.py\n",
    "# CrushPython - MontyHall\n",
    "\n",
    "%matplotlib inline\n",
    "import matplotlib.pyplot as plot\n",
    "\n",
    "nsim = 1000    \n",
    "win_rate_keep = []\n",
    "\n",
    "\n",
    "\n",
    "plot.plot([x for x in range(1, nsim)], win_rate_keep, label='Original Guess')   \n",
    "\n",
    "win_rate_swap = []\n",
    "\n",
    "    \n",
    "    \n",
    "plot.plot([x for x in range(1, nsim)], win_rate_swap, label='Switched Guess')   \n",
    "plot.title(\"Winning Rate Plot\")\n",
    "plot.xlabel(\"Number of Simulation\")\n",
    "plot.ylabel(\"Winning Percentage\")\n",
    "plot.legend() "
   ]
  },
  {
   "cell_type": "markdown",
   "metadata": {},
   "source": [
    "(2) Another way of plotting is to plot the sorted list of the results as shown below. As we observe the plot, the winning rates are pretty much stable (or consistant) during the most of the time. \n",
    "\n",
    "__A sample run:__\n",
    "<img src=\"https://github.com/idebtor/KMOOC-ML/blob/master/ipynb/images/montyhall_plot2.png?raw=true\" width=\"400\">\n",
    "<center>Monty Hall problem winning rate simulation</center>"
   ]
  },
  {
   "cell_type": "code",
   "execution_count": null,
   "metadata": {},
   "outputs": [],
   "source": [
    "# your code here\n",
    "\n",
    "\n",
    "\n",
    "plot.title(\"Winning Rate Plot\")\n",
    "plot.xlabel(\"Number of Simulation\")\n",
    "plot.ylabel(\"Winning Percentage\")\n",
    "plot.legend() "
   ]
  },
  {
   "cell_type": "markdown",
   "metadata": {},
   "source": [
    "### Fianl Note:\n",
    "Many people find this answer counter-intuitive (famously, PhD mathematicians have incorrectly claimed the result must be wrong. Clearly, none of them knew Python). \n",
    "\n",
    "One of the best ways to build intuition about why opening a Goat door affects the odds is to re-run the experiment with 100 doors and one prize. If the game show host opens 98 goat doors after you make your initial selection, would you want to keep your first pick or switch? Can you generalize your simulation code to handle the case of `n` doors?"
   ]
  },
  {
   "cell_type": "markdown",
   "metadata": {},
   "source": [
    "-----\n",
    "God has saved us and called us to a holy life - not because of anythin we have done but because of his own purpose and grace. This grace was given us in Christ Jesus before the beginning of time. (1Tim1:9)\n",
    "\n",
    "하나님이 우리를 구원하사 거룩하신 소명으로 부르심은 우리의 행위대로 하심이 아니요 오직 자기 뜻과 영원 전부터 그리스도 예수 안에서 우리에게 주신 은혜대로 하심이라. (딤후1:9)"
   ]
  }
 ],
 "metadata": {
  "kernelspec": {
   "display_name": "Python 3",
   "language": "python",
   "name": "python3"
  },
  "language_info": {
   "codemirror_mode": {
    "name": "ipython",
    "version": 3
   },
   "file_extension": ".py",
   "mimetype": "text/x-python",
   "name": "python",
   "nbconvert_exporter": "python",
   "pygments_lexer": "ipython3",
   "version": "3.7.7"
  }
 },
 "nbformat": 4,
 "nbformat_minor": 1
}
