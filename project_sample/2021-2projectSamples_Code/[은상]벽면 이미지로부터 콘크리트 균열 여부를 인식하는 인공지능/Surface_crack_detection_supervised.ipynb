{
 "cells": [
  {
   "cell_type": "markdown",
   "id": "6fdb17bb",
   "metadata": {},
   "source": [
    "# Import Packages\n",
    "\n",
    "surface_crack_outlier_detection에서 데이터를 먼저 다운받은 후 사용해야 한다."
   ]
  },
  {
   "cell_type": "code",
   "execution_count": 117,
   "id": "de772305",
   "metadata": {},
   "outputs": [],
   "source": [
    "import tensorflow as tf\n",
    "from tensorflow.keras.layers import Dense, Layer, InputLayer #딥러닝 레이어를 만드는 모듈들\n",
    "import numpy as np\n",
    "from PIL import Image\n",
    "import matplotlib.pyplot as plt\n",
    "from sklearn.model_selection import train_test_split\n",
    "from glob import glob"
   ]
  },
  {
   "cell_type": "markdown",
   "id": "85d2196d",
   "metadata": {},
   "source": [
    "# Load Images\n",
    "- normal : 20,000\n",
    "- crack : 20,000"
   ]
  },
  {
   "cell_type": "code",
   "execution_count": 95,
   "id": "d41df99b",
   "metadata": {},
   "outputs": [
    {
     "name": "stdout",
     "output_type": "stream",
     "text": [
      "(32000, 64, 64, 3)\n",
      "(8000, 64, 64, 3)\n",
      "(32000,)\n",
      "(8000,)\n"
     ]
    }
   ],
   "source": [
    "#정상(Negative) 이미지의 파일명을 리스트로 저장 (20,000장)\n",
    "normal_list = glob('Negative/*.jpg') \n",
    "normal_trait = np.array([0]*20000)\n",
    "crack_list = glob('Positive/*.jpg')\n",
    "crack_trait = np.array([1]*20000)\n",
    "\n",
    "img_list = np.concatenate((normal_list, crack_list))\n",
    "trait_list = np.concatenate((normal_trait,crack_trait),axis=0)\n",
    "\n",
    "#학습용 이미지와 검증용 이미지를 분리\n",
    "train_img_list, val_img_list, train_trait_list, val_trait_list = train_test_split(img_list,trait_list, test_size=0.2, random_state=2021)\n",
    "\n",
    "#--이미지를 넘파이 배열로 전환해주는 함수\n",
    "#----fpath : 이미지 파일의 이름이 담긴 리스트\n",
    "#----resize : 이미지의 크기를 resizing 해줄지 여부\n",
    "def img_to_np(fpaths, resize=True):  \n",
    "    img_array = []\n",
    "    for fname in fpaths: #각 이미지 파일에 대하여 \n",
    "        try:\n",
    "            img = Image.open(fname).convert('RGB') #PIL 모듈로 이미지 정보를 로드, rgb 모드로 변환\n",
    "            if(resize): img = img.resize((64, 64)) #64x64 픽셀 크기로 변환\n",
    "            img_array.append(np.asarray(img)) #각 이미지의 수치를 리스트에 저장\n",
    "        except: \n",
    "            continue\n",
    "    images = np.array(img_array) #리스트를 넘파이 배열로 전환\n",
    "    return images\n",
    "\n",
    "x_train = img_to_np(train_img_list) \n",
    "x_train = x_train.astype(np.float32) / 255. # 0~255 -> 0.0~1.0 normalization\n",
    "\n",
    "x_val = img_to_np(val_img_list) \n",
    "x_val = x_val.astype(np.float32) / 255.\n",
    "\n",
    "print(x_train.shape) # (이미지 수, x축 픽셀, y축 픽셀, 픽셀 rgb 색상)\n",
    "print(x_val.shape)\n",
    "print(train_trait_list.shape) # (이미지 수, x축 픽셀, y축 픽셀, 픽셀 rgb 색상)\n",
    "print(val_trait_list.shape)"
   ]
  },
  {
   "cell_type": "markdown",
   "id": "5c7690b8",
   "metadata": {},
   "source": [
    "# Build Model"
   ]
  },
  {
   "cell_type": "code",
   "execution_count": 97,
   "id": "838ef6f4",
   "metadata": {},
   "outputs": [],
   "source": [
    "model = tf.keras.models.Sequential([\n",
    "    tf.keras.layers.Flatten(input_shape=(64, 64,3)),  \n",
    "    tf.keras.layers.Dense(128, activation='relu'),\n",
    "    tf.keras.layers.Dense(64, activation='relu'),\n",
    "    tf.keras.layers.Dense(32, activation='relu'),\n",
    "    tf.keras.layers.Dense(2, activation='softmax')\n",
    "])"
   ]
  },
  {
   "cell_type": "code",
   "execution_count": 102,
   "id": "490d26b7",
   "metadata": {},
   "outputs": [],
   "source": [
    "model.compile(\n",
    "    optimizer = 'adam',\n",
    "    loss='sparse_categorical_crossentropy',\n",
    "    metrics=['accuracy']   \n",
    ")"
   ]
  },
  {
   "cell_type": "code",
   "execution_count": 103,
   "id": "e78410d5",
   "metadata": {},
   "outputs": [
    {
     "name": "stdout",
     "output_type": "stream",
     "text": [
      "Model: \"sequential_9\"\n",
      "_________________________________________________________________\n",
      "Layer (type)                 Output Shape              Param #   \n",
      "=================================================================\n",
      "flatten_9 (Flatten)          (None, 12288)             0         \n",
      "_________________________________________________________________\n",
      "dense_28 (Dense)             (None, 128)               1572992   \n",
      "_________________________________________________________________\n",
      "dense_29 (Dense)             (None, 64)                8256      \n",
      "_________________________________________________________________\n",
      "dense_30 (Dense)             (None, 32)                2080      \n",
      "_________________________________________________________________\n",
      "dense_31 (Dense)             (None, 2)                 66        \n",
      "=================================================================\n",
      "Total params: 1,583,394\n",
      "Trainable params: 1,583,394\n",
      "Non-trainable params: 0\n",
      "_________________________________________________________________\n"
     ]
    }
   ],
   "source": [
    "model.summary()"
   ]
  },
  {
   "cell_type": "markdown",
   "id": "ca36340e",
   "metadata": {},
   "source": [
    "# Train"
   ]
  },
  {
   "cell_type": "code",
   "execution_count": 104,
   "id": "5cfe01b7",
   "metadata": {
    "scrolled": true
   },
   "outputs": [
    {
     "name": "stdout",
     "output_type": "stream",
     "text": [
      "Epoch 1/30\n",
      "250/250 [==============================] - 2s 8ms/step - loss: 0.5501 - accuracy: 0.7232\n",
      "Epoch 2/30\n",
      "250/250 [==============================] - 2s 7ms/step - loss: 0.4429 - accuracy: 0.8108\n",
      "Epoch 3/30\n",
      "250/250 [==============================] - 2s 9ms/step - loss: 0.3684 - accuracy: 0.8633\n",
      "Epoch 4/30\n",
      "250/250 [==============================] - 2s 7ms/step - loss: 0.3677 - accuracy: 0.8553\n",
      "Epoch 5/30\n",
      "250/250 [==============================] - 2s 8ms/step - loss: 0.3365 - accuracy: 0.8714\n",
      "Epoch 6/30\n",
      "250/250 [==============================] - 2s 8ms/step - loss: 0.3111 - accuracy: 0.8786\n",
      "Epoch 7/30\n",
      "250/250 [==============================] - 2s 7ms/step - loss: 0.3440 - accuracy: 0.8612\n",
      "Epoch 8/30\n",
      "250/250 [==============================] - 2s 8ms/step - loss: 0.3050 - accuracy: 0.8760\n",
      "Epoch 9/30\n",
      "250/250 [==============================] - 2s 8ms/step - loss: 0.2928 - accuracy: 0.8804\n",
      "Epoch 10/30\n",
      "250/250 [==============================] - 2s 8ms/step - loss: 0.3142 - accuracy: 0.8702\n",
      "Epoch 11/30\n",
      "250/250 [==============================] - 2s 7ms/step - loss: 0.2617 - accuracy: 0.8971\n",
      "Epoch 12/30\n",
      "250/250 [==============================] - 2s 8ms/step - loss: 0.2817 - accuracy: 0.8874\n",
      "Epoch 13/30\n",
      "250/250 [==============================] - 2s 7ms/step - loss: 0.2756 - accuracy: 0.8889\n",
      "Epoch 14/30\n",
      "250/250 [==============================] - 2s 8ms/step - loss: 0.2625 - accuracy: 0.8962\n",
      "Epoch 15/30\n",
      "250/250 [==============================] - 2s 7ms/step - loss: 0.2550 - accuracy: 0.8994\n",
      "Epoch 16/30\n",
      "250/250 [==============================] - 2s 8ms/step - loss: 0.2488 - accuracy: 0.9044\n",
      "Epoch 17/30\n",
      "250/250 [==============================] - 2s 8ms/step - loss: 0.2544 - accuracy: 0.9014\n",
      "Epoch 18/30\n",
      "250/250 [==============================] - 2s 7ms/step - loss: 0.2560 - accuracy: 0.9001\n",
      "Epoch 19/30\n",
      "250/250 [==============================] - 2s 7ms/step - loss: 0.2484 - accuracy: 0.9022\n",
      "Epoch 20/30\n",
      "250/250 [==============================] - 2s 8ms/step - loss: 0.2523 - accuracy: 0.9015\n",
      "Epoch 21/30\n",
      "250/250 [==============================] - 2s 7ms/step - loss: 0.2433 - accuracy: 0.9051\n",
      "Epoch 22/30\n",
      "250/250 [==============================] - 2s 8ms/step - loss: 0.2408 - accuracy: 0.9062\n",
      "Epoch 23/30\n",
      "250/250 [==============================] - 2s 7ms/step - loss: 0.2072 - accuracy: 0.9227\n",
      "Epoch 24/30\n",
      "250/250 [==============================] - 2s 8ms/step - loss: 0.2122 - accuracy: 0.9198\n",
      "Epoch 25/30\n",
      "250/250 [==============================] - 2s 7ms/step - loss: 0.2056 - accuracy: 0.9248\n",
      "Epoch 26/30\n",
      "250/250 [==============================] - 2s 8ms/step - loss: 0.1928 - accuracy: 0.9298\n",
      "Epoch 27/30\n",
      "250/250 [==============================] - 2s 8ms/step - loss: 0.2111 - accuracy: 0.9210\n",
      "Epoch 28/30\n",
      "250/250 [==============================] - 2s 8ms/step - loss: 0.2101 - accuracy: 0.9222\n",
      "Epoch 29/30\n",
      "250/250 [==============================] - 2s 7ms/step - loss: 0.2071 - accuracy: 0.9240\n",
      "Epoch 30/30\n",
      "250/250 [==============================] - 2s 8ms/step - loss: 0.2012 - accuracy: 0.9262\n"
     ]
    }
   ],
   "source": [
    "history = model.fit(x_train, train_trait_list, epochs=30,batch_size=128)  "
   ]
  },
  {
   "cell_type": "markdown",
   "id": "ee743e67",
   "metadata": {},
   "source": [
    "# Validation"
   ]
  },
  {
   "cell_type": "code",
   "execution_count": 105,
   "id": "8abd8bba",
   "metadata": {},
   "outputs": [
    {
     "name": "stdout",
     "output_type": "stream",
     "text": [
      "250/250 [==============================] - 0s 1ms/step - loss: 0.2025 - accuracy: 0.9279\n"
     ]
    }
   ],
   "source": [
    "results = model.evaluate(x_val, val_trait_list)   # loss and accuracy"
   ]
  },
  {
   "cell_type": "code",
   "execution_count": 106,
   "id": "8ab43587",
   "metadata": {},
   "outputs": [
    {
     "data": {
      "image/png": "[encoded data removed]",
      "text/plain": [
       "<Figure size 432x288 with 1 Axes>"
      ]
     },
     "metadata": {
      "needs_background": "light"
     },
     "output_type": "display_data"
    }
   ],
   "source": [
    "import matplotlib.pyplot as plt\n",
    "\n",
    "loss = history.history['loss']\n",
    "accuracy = history.history['accuracy']\n",
    "epochs = range(1, len(loss) + 1)            # for x, use len(loss)\n",
    "\n",
    "plt.plot(epochs, loss, 'r', label='Training loss')\n",
    "plt.plot(epochs, accuracy, 'b', label='Accuracy')\n",
    "plt.title('Training and Accuracy')\n",
    "plt.xlabel('Epochs')\n",
    "plt.ylabel('Loss')\n",
    "plt.legend()\n",
    "plt.show()"
   ]
  },
  {
   "cell_type": "code",
   "execution_count": 107,
   "id": "64938b7d",
   "metadata": {},
   "outputs": [
    {
     "name": "stdout",
     "output_type": "stream",
     "text": [
      "yhat shape: (8000, 2)\n",
      "one sample: [0.6599113  0.34008873]\n",
      "0\n"
     ]
    }
   ],
   "source": [
    "yhat = model.predict(x_val)\n",
    "print('yhat shape:', yhat.shape)\n",
    "print('one sample:', yhat[0])\n",
    "print(val_trait_list[0])"
   ]
  },
  {
   "cell_type": "code",
   "execution_count": 108,
   "id": "8967ecb9",
   "metadata": {},
   "outputs": [
    {
     "name": "stdout",
     "output_type": "stream",
     "text": [
      "image=0, predicted=0, label=0\n",
      "image=1, predicted=0, label=0\n",
      "image=2, predicted=0, label=0\n",
      "image=3, predicted=1, label=1\n",
      "image=4, predicted=1, label=1\n",
      "image=5, predicted=1, label=1\n",
      "image=6, predicted=1, label=1\n",
      "image=7, predicted=0, label=0\n",
      "image=8, predicted=0, label=0\n",
      "image=9, predicted=1, label=1\n",
      "image=10, predicted=0, label=1\n",
      "image=11, predicted=1, label=1\n",
      "image=12, predicted=0, label=0\n",
      "image=13, predicted=0, label=0\n",
      "image=14, predicted=1, label=1\n",
      "image=15, predicted=0, label=0\n",
      "image=16, predicted=0, label=0\n",
      "image=17, predicted=0, label=0\n",
      "image=18, predicted=0, label=0\n",
      "image=19, predicted=1, label=1\n"
     ]
    }
   ],
   "source": [
    "predicted = []\n",
    "for i, iyhat in enumerate(yhat):\n",
    "    if i < 20:\n",
    "        predicted.append(np.argmax(iyhat))\n",
    "        print('image={}, predicted={}, label={}'.format(i, predicted[i], val_trait_list[i]))"
   ]
  },
  {
   "cell_type": "code",
   "execution_count": 111,
   "id": "fa91c42f",
   "metadata": {},
   "outputs": [],
   "source": [
    "def img_predict_show(x_val,val_trait_list,yhat,idx):\n",
    "    plt.imshow(x_val[idx].squeeze())\n",
    "    plt.title(\"Image {}\\nPredicted = {}\\nLabel = {}\".format(idx,np.argmax(yhat[idx]),val_trait_list[idx]))"
   ]
  },
  {
   "cell_type": "code",
   "execution_count": 121,
   "id": "0197f9b5",
   "metadata": {},
   "outputs": [
    {
     "data": {
      "image/png": "[encoded data removed]",
      "text/plain": [
       "<Figure size 432x288 with 1 Axes>"
      ]
     },
     "metadata": {
      "needs_background": "light"
     },
     "output_type": "display_data"
    }
   ],
   "source": [
    "img_predict_show(x_val,val_trait_list,yhat,3) #마지막 파라메터에 원하는 인덱스를 입력하면 해당 이미지와 예측값, 실제 라벨을 볼 수 있다."
   ]
  },
  {
   "cell_type": "code",
   "execution_count": null,
   "id": "862034a4",
   "metadata": {},
   "outputs": [],
   "source": []
  }
 ],
 "metadata": {
  "kernelspec": {
   "display_name": "Python 3 (ipykernel)",
   "language": "python",
   "name": "python3"
  },
  "language_info": {
   "codemirror_mode": {
    "name": "ipython",
    "version": 3
   },
   "file_extension": ".py",
   "mimetype": "text/x-python",
   "name": "python",
   "nbconvert_exporter": "python",
   "pygments_lexer": "ipython3",
   "version": "3.9.6"
  }
 },
 "nbformat": 4,
 "nbformat_minor": 5
}
